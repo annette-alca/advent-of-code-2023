{
 "cells": [
  {
   "cell_type": "markdown",
   "metadata": {},
   "source": [
    "My solution to https://adventofcode.com/2023/day/7.\n",
    "\n",
    "This is a card game, similar to Poker, with different rules for Part 1 and Part 2.\n",
    "\n",
    "I used classes to represent `Card`, `Hand`, `Game`. \n",
    "\n",
    "I used a modified Hand class `P2Hand` for Part 2. \n",
    "\n",
    "The play_game method in the Game class was used to solve both parts of the puzzle.\n",
    "\n",
    "-Annette\n"
   ]
  },
  {
   "cell_type": "code",
   "execution_count": 3,
   "metadata": {},
   "outputs": [
    {
     "data": {
      "text/plain": [
       "1000"
      ]
     },
     "execution_count": 3,
     "metadata": {},
     "output_type": "execute_result"
    }
   ],
   "source": [
    "#Open input file, get information\n",
    "p7 = open('input_puz7.txt','r')\n",
    "lines=p7.read().splitlines()\n",
    "p7.close()\n",
    "len(lines)"
   ]
  },
  {
   "cell_type": "code",
   "execution_count": null,
   "metadata": {},
   "outputs": [],
   "source": [
    "#Part 1 Classes and Methods\n",
    "std_suit = [str(i) for i in range(2,10)]\n",
    "std_suit += [letter for letter in ['T', 'J', 'Q', 'K', 'A']]\n",
    "\n",
    "class Card():\n",
    "    def __init__(self, card:str, suit = std_suit):\n",
    "        self.card = card\n",
    "        self.suit = suit\n",
    "\n",
    "    def __eq__(self, other):\n",
    "       s = str(self.card)\n",
    "       o = str(other.card)\n",
    "       return self.suit.index(s) == self.suit.index(o)\n",
    "    \n",
    "    def __gt__(self, other):\n",
    "        s = str(self.card)\n",
    "        o = str(other.card)\n",
    "        return self.suit.index(s) > self.suit.index(o)\n",
    "    \n",
    "    def __lt__(self, other):\n",
    "        return not self > other\n",
    "\n",
    "class Hand():\n",
    "    def __init__(self, hand:str, suit=std_suit):\n",
    "        self.hand = hand\n",
    "        self.repeats = self.get_repeats()\n",
    "        self.suit = suit\n",
    "\n",
    "    def get_repeats(self):\n",
    "        repeats = [self.hand.count(card) for card in set(self.hand)]\n",
    "        repeats.sort(reverse=True)\n",
    "        return repeats \n",
    "    \n",
    "    def __str__(self):\n",
    "        return str(self.hand) \n",
    "    def __repr__(self):\n",
    "        return f\"H: {self.hand}\"\n",
    "    \n",
    "    def __eq__(self, other):\n",
    "        return str(self.hand) == str(other.hand)\n",
    "    \n",
    "    def __gt__(self, other):\n",
    "        for i in range(min(len(self.repeats), len(other.repeats))): #first compare repeats of cards\n",
    "            if self.repeats[i]>other.repeats[i]:\n",
    "                return True\n",
    "            elif self.repeats[i]<other.repeats[i]: \n",
    "                return False\n",
    "        for c in range(5): #then compare card values\n",
    "            if self.hand[c] != other.hand[c]: #these are class cards\n",
    "                return Card(self.hand[c], self.suit) > Card(other.hand[c], self.suit)\n",
    "    \n",
    "    def __lt__(self, other):\n",
    "        return not self > other\n",
    "\n"
   ]
  },
  {
   "cell_type": "code",
   "execution_count": null,
   "metadata": {},
   "outputs": [],
   "source": [
    "#Part2 Class and Method\n",
    "p2suit = std_suit.copy()\n",
    "p2suit.remove('J')\n",
    "p2suit.insert(0,'J')\n",
    "\n",
    "class P2Hand(Hand):\n",
    "    def __init__(self, hand, suit=p2suit):\n",
    "        super().__init__(hand, p2suit)\n",
    "        self.repeats = self.p2_get_repeats()\n",
    "\n",
    "    def p2_get_repeats(self):\n",
    "        repeats = self.get_repeats()\n",
    "        if 'J' not in self.hand or len(repeats)==1:\n",
    "            return repeats\n",
    "        else:\n",
    "            extraJ = self.hand.count('J')\n",
    "            if extraJ != repeats[0]:\n",
    "                repeats[0] += extraJ\n",
    "            else:\n",
    "                repeats[1] += extraJ\n",
    "            repeats.remove(extraJ)\n",
    "c            return repeats"
   ]
  },
  {
   "cell_type": "code",
   "execution_count": null,
   "metadata": {},
   "outputs": [],
   "source": [
    "#Part1 and 2 Game Class:\n",
    "class Game():\n",
    "    def __init__(self,game_d, part=1):\n",
    "        self.game_d = game_d\n",
    "        self.part = part\n",
    "\n",
    "    def play_game(self):\n",
    "        total = 0\n",
    "        if self.part==1:\n",
    "            all_hands = [Hand(h) for h in self.game_d]\n",
    "        elif self.part==2:\n",
    "            all_hands = [P2Hand(h) for h in self.game_d]\n",
    "        all_hands.sort()\n",
    "        for i,hand in enumerate(all_hands):\n",
    "            total += (i+1) * self.game_d[str(hand)]\n",
    "        return total\n"
   ]
  },
  {
   "cell_type": "code",
   "execution_count": 15,
   "metadata": {},
   "outputs": [
    {
     "name": "stdout",
     "output_type": "stream",
     "text": [
      "Part1 Answer: 247823654\n"
     ]
    }
   ],
   "source": [
    "#Part1 Solution:\n",
    "game_d = {}\n",
    "for l in lines:\n",
    "    hand, bid = l.split()\n",
    "    game_d[hand] = int(bid)\n",
    "game = Game(game_d, part=1)\n",
    "\n",
    "print(f\"Part1 Answer: {game.play_game()}\")\n"
   ]
  },
  {
   "cell_type": "code",
   "execution_count": 17,
   "metadata": {},
   "outputs": [
    {
     "name": "stdout",
     "output_type": "stream",
     "text": [
      "Part2 Answer: 245461700\n"
     ]
    }
   ],
   "source": [
    "#Part2 Solution:\n",
    "game2 = Game(game_d, part=2)\n",
    "print(f\"Part2 Answer: {game2.play_game()}\")"
   ]
  }
 ],
 "metadata": {
  "kernelspec": {
   "display_name": "venv",
   "language": "python",
   "name": "python3"
  },
  "language_info": {
   "codemirror_mode": {
    "name": "ipython",
    "version": 3
   },
   "file_extension": ".py",
   "mimetype": "text/x-python",
   "name": "python",
   "nbconvert_exporter": "python",
   "pygments_lexer": "ipython3",
   "version": "3.13.2"
  }
 },
 "nbformat": 4,
 "nbformat_minor": 4
}
