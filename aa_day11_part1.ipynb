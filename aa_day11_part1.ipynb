{
 "cells": [
  {
   "cell_type": "markdown",
   "id": "0add65e0",
   "metadata": {},
   "source": [
    "My solution to https://adventofcode.com/2023/day/11.\n",
    "\n",
    "<ins>Part1</ins> solved as described in the AoC text. The universe or mtx (for matrix) is represented as a list of strings. \n",
    "- `expand_universe` adds rows and columns of '.' when it encounters rows and columns of this.\n",
    "- `get_galaxies` returns the coordinates of every '#'.\n",
    "- `sum_distances` returns the total of x,y distances between all pairs of galaxies. \n",
    "\n",
    "<ins>Part2</ins> in progress.\n"
   ]
  },
  {
   "cell_type": "code",
   "execution_count": 49,
   "id": "a149f904",
   "metadata": {},
   "outputs": [
    {
     "data": {
      "text/plain": [
       "['............#..................#..........................................................#..........................#......................',\n",
       " '.................................................................#...............#..............#...............#......................#....',\n",
       " '...................................#.....................#..................#............................#...................#..............']"
      ]
     },
     "execution_count": 49,
     "metadata": {},
     "output_type": "execute_result"
    }
   ],
   "source": [
    "#open file as df\n",
    "import pandas as pd\n",
    "\n",
    "filename = 'day11_input.txt'\n",
    "with open (filename,'r') as f:\n",
    "    mtx = f.read().splitlines()\n",
    "\n",
    "mtx[:3]"
   ]
  },
  {
   "cell_type": "code",
   "execution_count": 50,
   "id": "10e44f1d",
   "metadata": {},
   "outputs": [],
   "source": [
    "#Part 1 Functions\n",
    "\n",
    "def expand_universe(mtx):\n",
    "    empty_row = '.' * len(mtx[0])\n",
    "\n",
    "    for row in range(len(mtx)-1,-1,-1):\n",
    "        if mtx[row] == empty_row:\n",
    "            mtx.insert(row,empty_row)\n",
    "\n",
    "    totcols = len(mtx[0])\n",
    "    totrows = len(mtx) #this has expanded\n",
    "\n",
    "    for col in range(totcols-1,-1,-1):\n",
    "        if all([mtx[row][col] == '.' for row in range(totrows)]):\n",
    "            for row in range(totrows):\n",
    "                mtx[row] = mtx[row][:col] + '.' + mtx[row][col:] \n",
    "    return mtx\n",
    "\n",
    "def get_galaxies(mtx:list):\n",
    "    coordinates = []\n",
    "    for row in range(len(mtx)):\n",
    "        for col in range(len(mtx[0])):\n",
    "            if mtx[row][col] == '#':\n",
    "                coordinates.append((row,col))\n",
    "    return coordinates\n",
    "\n",
    "def sum_distances(coordinates:list):\n",
    "    total_distance = 0\n",
    "    for i in range(len(coordinates)-1):\n",
    "        for j in range(i+1,len(coordinates)):\n",
    "            xi,yi = coordinates[i]\n",
    "            xj,yj = coordinates[j]\n",
    "            distance = abs(xj-xi) + abs(yj-yi)\n",
    "            total_distance += distance\n",
    "\n",
    "    return total_distance\n",
    "\n",
    "    "
   ]
  },
  {
   "cell_type": "code",
   "execution_count": 51,
   "id": "0187424e",
   "metadata": {},
   "outputs": [
    {
     "name": "stdout",
     "output_type": "stream",
     "text": [
      "Part1 Answer: 9556896\n"
     ]
    }
   ],
   "source": [
    "#Part 1 Solution\n",
    "mtx_expanded = expand_universe(mtx)\n",
    "galaxies = get_galaxies(mtx_expanded)\n",
    "total_distance = sum_distances(galaxies)\n",
    "print(f'Part1 Answer: {total_distance}')"
   ]
  }
 ],
 "metadata": {
  "kernelspec": {
   "display_name": "venv",
   "language": "python",
   "name": "python3"
  },
  "language_info": {
   "codemirror_mode": {
    "name": "ipython",
    "version": 3
   },
   "file_extension": ".py",
   "mimetype": "text/x-python",
   "name": "python",
   "nbconvert_exporter": "python",
   "pygments_lexer": "ipython3",
   "version": "3.13.2"
  }
 },
 "nbformat": 4,
 "nbformat_minor": 5
}
