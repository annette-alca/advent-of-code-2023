{
 "cells": [
  {
   "cell_type": "markdown",
   "id": "d042e89c",
   "metadata": {},
   "source": [
    "https://adventofcode.com/2023/day/24\n"
   ]
  },
  {
   "cell_type": "code",
   "execution_count": 2,
   "id": "e4772855",
   "metadata": {},
   "outputs": [
    {
     "data": {
      "text/plain": [
       "['19, 13, 30 @ -2,  1, -2',\n",
       " '18, 19, 22 @ -1, -1, -2',\n",
       " '20, 25, 34 @ -2, -2, -4',\n",
       " '12, 31, 28 @ -1, -2, -1',\n",
       " '20, 19, 15 @  1, -5, -3']"
      ]
     },
     "execution_count": 2,
     "metadata": {},
     "output_type": "execute_result"
    }
   ],
   "source": [
    "#get text lines\n",
    "filename = 'sample_puz24.txt'\n",
    "\n",
    "with open (filename, 'r') as f:\n",
    "    lines = f.read().splitlines()\n",
    "\n",
    "lines"
   ]
  },
  {
   "cell_type": "code",
   "execution_count": null,
   "id": "91a17110",
   "metadata": {},
   "outputs": [],
   "source": [
    "#Part 1 Functions\n",
    "def get_pos_and_vels(line):\n",
    "    p_line = line[:line.index(' @')]\n",
    "    v_line = line[line.index('@')+2:]\n",
    "    x,y,z = [int(ele) for ele in p_line.split(',')]\n",
    "    vx,vy,vz = [int(v) for v in v_line.split(',')]\n",
    "    return [x,y,z], [vx,vy,vz]\n",
    "\n",
    "def get_all_pos_and_vels(lines):\n",
    "    return [get_pos_and_vels(line) for line in lines]\n",
    "\n",
    "def get_xy_collisions(p_and_vs):\n",
    "    pass\n",
    "    "
   ]
  },
  {
   "cell_type": "code",
   "execution_count": null,
   "id": "23e935d3",
   "metadata": {},
   "outputs": [
    {
     "data": {
      "text/plain": [
       "[([19, 13, 30], [-2, 1, -2]),\n",
       " ([18, 19, 22], [-1, -1, -2]),\n",
       " ([20, 25, 34], [-2, -2, -4]),\n",
       " ([12, 31, 28], [-1, -2, -1]),\n",
       " ([20, 19, 15], [1, -5, -3])]"
      ]
     },
     "execution_count": 6,
     "metadata": {},
     "output_type": "execute_result"
    }
   ],
   "source": [
    "collection = get_all_pos_and_vels(lines)\n"
   ]
  },
  {
   "cell_type": "code",
   "execution_count": null,
   "id": "00703e08",
   "metadata": {},
   "outputs": [],
   "source": []
  }
 ],
 "metadata": {
  "kernelspec": {
   "display_name": "venv",
   "language": "python",
   "name": "python3"
  },
  "language_info": {
   "codemirror_mode": {
    "name": "ipython",
    "version": 3
   },
   "file_extension": ".py",
   "mimetype": "text/x-python",
   "name": "python",
   "nbconvert_exporter": "python",
   "pygments_lexer": "ipython3",
   "version": "3.13.2"
  }
 },
 "nbformat": 4,
 "nbformat_minor": 5
}
