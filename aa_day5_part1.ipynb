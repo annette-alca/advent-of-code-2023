{
 "cells": [
  {
   "cell_type": "markdown",
   "id": "245baedb",
   "metadata": {},
   "source": [
    "This is my solution to Part 1 of https://adventofcode.com/2023/day/5.\n",
    "\n",
    "<ins>Part</ins> 1 is solved using three functions:\n",
    "\n",
    "- `get_next_num` From a list of numbers, it uses a map to get the corresponding next numbers.\n",
    "- `generate map` generates the next map as it reads through the input file.\n",
    "- `part_1_recurse` is a recursive function that calls the other two functions and finishes when the end of the file is reached. The final set of numbers are returned.\n",
    "\n",
    "I'm still working on <ins>Part 2</ins>, there are a lot more numbers (they are defined by very large range boundaries) so I can't use the same approach.\n",
    "\n",
    "- Annette"
   ]
  },
  {
   "cell_type": "code",
   "execution_count": 4,
   "id": "539b9426",
   "metadata": {},
   "outputs": [
    {
     "name": "stdout",
     "output_type": "stream",
     "text": [
      "Input file has 235 lines.\n",
      "There are 20 seeds.\n"
     ]
    }
   ],
   "source": [
    "#Open file and get seeds.\n",
    "#Open file and get all text.\n",
    "with open ('puzzle5_input.txt') as f:\n",
    "    lines = f.read().splitlines()\n",
    "print(f'Input file has {len(lines)} lines.')\n",
    "\n",
    "#Get seeds from the top line of text.\n",
    "seeds = [int(num) for num in lines[0].split() if num.isdigit() ]\n",
    "print(f'There are {len(seeds)} seeds.')"
   ]
  },
  {
   "cell_type": "code",
   "execution_count": 5,
   "id": "4d6d2ece",
   "metadata": {},
   "outputs": [],
   "source": [
    "# Part 1 Functions\n",
    "\n",
    "def get_next_num(numlist, map):\n",
    "    nextlist = []\n",
    "    for num in numlist:\n",
    "        next = None\n",
    "        for dest,source,ra in map:\n",
    "            if num in range(source, source + ra):\n",
    "                next = dest + num - source\n",
    "                nextlist.append(next)\n",
    "                break\n",
    "        if next == None:\n",
    "            nextlist.append(num)\n",
    "    return nextlist\n",
    "\n",
    "def generate_map(lines):\n",
    "    map = []\n",
    "    for i in range(len(lines)):\n",
    "        l = lines[i]\n",
    "        if l and l[0].isdigit():\n",
    "            map.append([int(element) for element in l.split()])\n",
    "            i+=1\n",
    "            if i == len(lines):\n",
    "                return map, i \n",
    "        elif not l:\n",
    "            return map,i\n",
    "\n",
    "def part_1_recurse(numlist,lines):\n",
    "    map,i = generate_map(lines)\n",
    "    numlist = get_next_num(numlist, map)\n",
    "    if i == len(lines):\n",
    "        return numlist\n",
    "    else:\n",
    "        return part_1_recurse(numlist,lines[i+2:])\n"
   ]
  },
  {
   "cell_type": "code",
   "execution_count": 6,
   "id": "f0ebd413",
   "metadata": {},
   "outputs": [
    {
     "name": "stdout",
     "output_type": "stream",
     "text": [
      "Part 1 answer: 107430936\n"
     ]
    }
   ],
   "source": [
    "#Part1 Solution\n",
    "location_list = part_1_recurse(seeds[:], lines[3:])\n",
    "print('Part 1 answer:', min(location_list))"
   ]
  }
 ],
 "metadata": {
  "kernelspec": {
   "display_name": "venv",
   "language": "python",
   "name": "python3"
  },
  "language_info": {
   "codemirror_mode": {
    "name": "ipython",
    "version": 3
   },
   "file_extension": ".py",
   "mimetype": "text/x-python",
   "name": "python",
   "nbconvert_exporter": "python",
   "pygments_lexer": "ipython3",
   "version": "3.13.2"
  }
 },
 "nbformat": 4,
 "nbformat_minor": 5
}
