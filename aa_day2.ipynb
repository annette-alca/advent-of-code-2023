{
 "cells": [
  {
   "cell_type": "markdown",
   "metadata": {},
   "source": [
    "My solution to https://adventofcode.com/2023/day/2.\n",
    "\n",
    "I refactored this in 2025 and used list comprehensions to improve the format of th e input data in the gameOK function.\n",
    "\n",
    "-Annette"
   ]
  },
  {
   "cell_type": "code",
   "execution_count": 6,
   "metadata": {},
   "outputs": [
    {
     "name": "stdout",
     "output_type": "stream",
     "text": [
      "100\n"
     ]
    }
   ],
   "source": [
    "#open file and get information\n",
    "with open('new_puzzle2.txt','r') as elf:\n",
    "    lines = elf.read().splitlines()\n",
    "print(len(lines))\n",
    "    "
   ]
  },
  {
   "cell_type": "code",
   "execution_count": 7,
   "metadata": {},
   "outputs": [],
   "source": [
    "#Part 1 Function:\n",
    "\n",
    "def gameOK (gamelist):\n",
    "    \"\"\"gamelist = list of tuples (num,colour) per game\n",
    "        returns True if any of the cubes are within the specified limits\"\"\"\n",
    "    global cube_limits\n",
    "    for num,colour in gamelist:\n",
    "        if num > cube_limits[colour]:\n",
    "            return False\n",
    "    return True"
   ]
  },
  {
   "cell_type": "code",
   "execution_count": 12,
   "metadata": {},
   "outputs": [
    {
     "name": "stdout",
     "output_type": "stream",
     "text": [
      "Part1 Answer: 2563\n"
     ]
    }
   ],
   "source": [
    "#Part1 Solution:\n",
    "cube_limits = {'red':12,'green':13,'blue':14}\n",
    "tot =0\n",
    "games_dict = {} #for Part2\n",
    "\n",
    "for line in lines:\n",
    "    gamename = int(line[5:line.index(': ')])\n",
    "    gametext = line[line.index(': ')+1:]\n",
    "    for punc in [';',',']:\n",
    "        gametext = gametext.replace(punc,'')\n",
    "    #gametext is now alternating number and colour of cube, convert it to a list of tuples below\n",
    "    games_prelist = gametext.split()\n",
    "    gamelist = [(int(games_prelist[i]), games_prelist[i+1]) for i in range (0,len(games_prelist),2)]\n",
    "\n",
    "    games_dict[gamename] = gamelist #storing info for Part2\n",
    "    \n",
    "    if gameOK(gamelist):\n",
    "        tot += gamename\n",
    "\n",
    "print(f'Part1 Answer: {tot}')"
   ]
  },
  {
   "cell_type": "code",
   "execution_count": 13,
   "metadata": {},
   "outputs": [],
   "source": [
    "#Part 2 Function\n",
    "# find max for each balls then output power\n",
    "def get_power (gamelist):\n",
    "    global cubes\n",
    "    gcubes ={'red':0,'green':0,'blue':0}\n",
    "    for num,colour in gamelist:\n",
    "        gcubes[colour] = max(gcubes[colour],num)\n",
    "    power = 1\n",
    "    for g in gcubes:\n",
    "        power *= gcubes[g]\n",
    "    return power"
   ]
  },
  {
   "cell_type": "code",
   "execution_count": 14,
   "metadata": {},
   "outputs": [
    {
     "name": "stdout",
     "output_type": "stream",
     "text": [
      "Part2 Answer: 70768\n"
     ]
    }
   ],
   "source": [
    "#Part 2 Solution\n",
    "powertot = 0\n",
    "for gamelist in games_dict.values():\n",
    "    powertot += get_power(gamelist)\n",
    "\n",
    "print(f'Part2 Answer: {powertot}')"
   ]
  }
 ],
 "metadata": {
  "kernelspec": {
   "display_name": "venv",
   "language": "python",
   "name": "python3"
  },
  "language_info": {
   "codemirror_mode": {
    "name": "ipython",
    "version": 3
   },
   "file_extension": ".py",
   "mimetype": "text/x-python",
   "name": "python",
   "nbconvert_exporter": "python",
   "pygments_lexer": "ipython3",
   "version": "3.13.2"
  }
 },
 "nbformat": 4,
 "nbformat_minor": 4
}
