{
 "cells": [
  {
   "cell_type": "markdown",
   "id": "caf5969d",
   "metadata": {},
   "source": [
    "My solution to https://adventofcode.com/2023/day/9\n",
    "\n",
    "<span style=\"color: blue;\">Predicting the next value from a series of numbers.</span>"
   ]
  },
  {
   "cell_type": "code",
   "execution_count": 6,
   "id": "061aa0e7",
   "metadata": {},
   "outputs": [
    {
     "data": {
      "text/plain": [
       "200"
      ]
     },
     "execution_count": 6,
     "metadata": {},
     "output_type": "execute_result"
    }
   ],
   "source": [
    "#open file and get number series per line\n",
    "with open (\"day9_input.txt\",\"r\", encoding='utf-8') as f:\n",
    "    lines = f.read().splitlines()\n",
    "len(lines)"
   ]
  },
  {
   "cell_type": "code",
   "execution_count": null,
   "id": "c4d22ada",
   "metadata": {},
   "outputs": [],
   "source": [
    "def list_differences(nums:list):\n",
    "    '''return the differences between numbers in a list and the last value in the list'''\n",
    "    differences = [nums[i+1]-nums[i] for i in range(len(nums)-1)]\n",
    "    return differences, nums[-1]\n",
    "\n",
    "def give_next_num(last_val, last_diff):\n",
    "    '''add the last_diff to last value in a list'''\n",
    "    return last_val + last_diff\n",
    "\n",
    "\n",
    "\n",
    "def \n"
   ]
  }
 ],
 "metadata": {
  "kernelspec": {
   "display_name": "venv",
   "language": "python",
   "name": "python3"
  },
  "language_info": {
   "codemirror_mode": {
    "name": "ipython",
    "version": 3
   },
   "file_extension": ".py",
   "mimetype": "text/x-python",
   "name": "python",
   "nbconvert_exporter": "python",
   "pygments_lexer": "ipython3",
   "version": "3.13.2"
  }
 },
 "nbformat": 4,
 "nbformat_minor": 5
}
