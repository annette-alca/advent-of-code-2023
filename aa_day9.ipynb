{
 "cells": [
  {
   "cell_type": "markdown",
   "id": "caf5969d",
   "metadata": {},
   "source": [
    "My solution to https://adventofcode.com/2023/day/9.\n",
    "\n",
    "Predicting the next value from a series of numbers. This is a nice example of where a <ins>recursive function</ins> is very useful. The problem involves transforming each list of numbers into a list of its increments until a base case each reached (list of zeroes). The number of transformation steps is variable (for the 200 starting lists in the problem) and the recursive call in the function keeps getting invoked until the base case is reached.\n",
    "\n",
    "Alternatively, I could also have used a while loop. \n",
    "\n",
    "For <ins>Part1</ins>, `list_differences` is the transformation function and `solve_next_value` is the recursive function. There is maths after the recursive base level is reached: Adding all the collected last values of the nested lists gives the answer. \n",
    "\n",
    "<ins>Part2</ins> involves getting the previous number in the series instead of the next. The functions are tweaked and renamed `list_differences2` and `solve_next_value2`.  Getting the answer involves alternately adding and subtracting collected the first value of the nested lists.\n",
    "\n",
    "-Annette"
   ]
  },
  {
   "cell_type": "code",
   "execution_count": 35,
   "id": "061aa0e7",
   "metadata": {},
   "outputs": [
    {
     "data": {
      "text/plain": [
       "200"
      ]
     },
     "execution_count": 35,
     "metadata": {},
     "output_type": "execute_result"
    }
   ],
   "source": [
    "#open file and get number series per line\n",
    "with open (\"day9_input.txt\",\"r\", encoding='utf-8') as f:\n",
    "    lines = f.read().splitlines()\n",
    "len(lines)"
   ]
  },
  {
   "cell_type": "code",
   "execution_count": null,
   "id": "c4d22ada",
   "metadata": {},
   "outputs": [],
   "source": [
    "#Part 1 Functions\n",
    "\n",
    "def list_differences(nums:list):\n",
    "    '''return the differences between numbers in a list and the last value in the list'''\n",
    "    differences = [nums[i+1]-nums[i] for i in range(len(nums)-1)]\n",
    "    return differences, nums[-1]\n",
    "\n",
    "def solve_next_value(nums:list, last_vals):\n",
    "    '''recursive function to give last number in series'''\n",
    "    diffs, last_val = list_differences(nums)\n",
    "    last_vals.append(last_val)\n",
    "\n",
    "    if all([num==0 for num in diffs]):\n",
    "        return sum(last_vals) \n",
    "    else:\n",
    "        return solve_next_value(diffs, last_vals)\n",
    "    \n",
    "    \n"
   ]
  },
  {
   "cell_type": "code",
   "execution_count": 60,
   "id": "b3e3436d",
   "metadata": {},
   "outputs": [
    {
     "name": "stdout",
     "output_type": "stream",
     "text": [
      "[1, 3, 6, 10, 15, 21]\n",
      "28\n"
     ]
    }
   ],
   "source": [
    "#Testing with sample data\n",
    "sample = '1 3 6 10 15 21'\n",
    "nums = [int(n) for n in sample.split()]\n",
    "print(nums)\n",
    "print(solve_next_value(nums, []))"
   ]
  },
  {
   "cell_type": "code",
   "execution_count": 61,
   "id": "e27d7c7a",
   "metadata": {},
   "outputs": [
    {
     "name": "stdout",
     "output_type": "stream",
     "text": [
      "Part 1 Answer: 1887980197\n"
     ]
    }
   ],
   "source": [
    "#Part 1 Solution\n",
    "total = 0\n",
    "nums_list = [] \n",
    "for l in lines:\n",
    "    nums = [int(n) for n in l.split()]\n",
    "    nums_list.append(nums)  #collecting for Part 2\n",
    "    total += solve_next_value(nums,[])\n",
    "\n",
    "print(f\"Part 1 Answer: {total}\")"
   ]
  },
  {
   "cell_type": "code",
   "execution_count": 69,
   "id": "119fcf61",
   "metadata": {},
   "outputs": [],
   "source": [
    "#Part 2 Functions\n",
    "\n",
    "def list_differences2(nums:list):\n",
    "    '''return the differences between numbers in a list and the first value in the list'''\n",
    "    differences = [nums[i+1]-nums[i] for i in range(len(nums)-1)]\n",
    "    return differences, nums[0]\n",
    "\n",
    "\n",
    "def solve_next_value2(nums:list, first_vals):\n",
    "    '''recursive function to give last number in series'''\n",
    "    diffs, first_val = list_differences2(nums)\n",
    "    first_vals.append(first_val)\n",
    "\n",
    "    if all([num==0 for num in diffs]):\n",
    "        tot2 = sum([first_vals[i]-first_vals[i+1] for i in range(0,len(first_vals)-1,2)])\n",
    "        if len(first_vals)%2 == 1: #odd number of values\n",
    "            tot2 += first_vals[-1]\n",
    "        return tot2\n",
    "    else:\n",
    "        return solve_next_value2(diffs, first_vals)\n",
    "    "
   ]
  },
  {
   "cell_type": "code",
   "execution_count": 70,
   "id": "d16da4bd",
   "metadata": {},
   "outputs": [
    {
     "name": "stdout",
     "output_type": "stream",
     "text": [
      "[1, 3, 6, 10, 15, 21]\n",
      "0\n"
     ]
    }
   ],
   "source": [
    "#Testing Part2 with sample data\n",
    "sample = '1 3 6 10 15 21'\n",
    "# '10  13  16  21  30  45'\n",
    "nums = [int(n) for n in sample.split()]\n",
    "print(nums)\n",
    "print(solve_next_value2(nums, []))"
   ]
  },
  {
   "cell_type": "code",
   "execution_count": 74,
   "id": "e340ef5f",
   "metadata": {},
   "outputs": [
    {
     "name": "stdout",
     "output_type": "stream",
     "text": [
      "Part 2 Answer: 990\n"
     ]
    }
   ],
   "source": [
    "#Part 2 Solution\n",
    "total2 = sum([solve_next_value2(nums,[]) for nums in nums_list])\n",
    "print(f\"Part 2 Answer: {total2}\")"
   ]
  }
 ],
 "metadata": {
  "kernelspec": {
   "display_name": "venv",
   "language": "python",
   "name": "python3"
  },
  "language_info": {
   "codemirror_mode": {
    "name": "ipython",
    "version": 3
   },
   "file_extension": ".py",
   "mimetype": "text/x-python",
   "name": "python",
   "nbconvert_exporter": "python",
   "pygments_lexer": "ipython3",
   "version": "3.13.2"
  }
 },
 "nbformat": 4,
 "nbformat_minor": 5
}
