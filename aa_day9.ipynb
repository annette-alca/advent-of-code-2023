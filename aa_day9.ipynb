{
 "cells": [
  {
   "cell_type": "markdown",
   "id": "caf5969d",
   "metadata": {},
   "source": [
    "My solution to https://adventofcode.com/2023/day/9\n",
    "\n",
    "Predicting the next value from a series of numbers. Both parts involve calculating the increments between in lists of numbers\n",
    "\n",
    "<span style=\"color: blue;\">Part 1</span>"
   ]
  },
  {
   "cell_type": "code",
   "execution_count": 1,
   "id": "929483cc",
   "metadata": {},
   "outputs": [],
   "source": [
    "# import for list calculations\n",
    "import numpy as np"
   ]
  },
  {
   "cell_type": "code",
   "execution_count": 2,
   "id": "061aa0e7",
   "metadata": {},
   "outputs": [
    {
     "data": {
      "text/plain": [
       "200"
      ]
     },
     "execution_count": 2,
     "metadata": {},
     "output_type": "execute_result"
    }
   ],
   "source": [
    "#open file and get number series per line\n",
    "with open (\"day9_input.txt\",\"r\", encoding='utf-8') as f:\n",
    "    lines = f.read().splitlines()\n",
    "len(lines)"
   ]
  },
  {
   "cell_type": "code",
   "execution_count": 13,
   "id": "c4d22ada",
   "metadata": {},
   "outputs": [],
   "source": [
    "#Part 1 Functions\n",
    "\n",
    "def list_differences(nums:list):\n",
    "    '''return the differences between numbers in a list and the last value in the list'''\n",
    "    differences = [nums[i+1]-nums[i] for i in range(len(nums)-1)]\n",
    "    return differences, nums[-1]\n",
    "\n",
    "def solve_next_value (nums:list, last_vals=[]):\n",
    "    '''recursive function to give last number in series'''\n",
    "    diffs, last_val = list_differences(nums)\n",
    "    last_vals.append(last_val)\n",
    "\n",
    "    if all([num==0 for num in diffs]):\n",
    "        # print(last_vals)\n",
    "        return sum(last_vals)\n",
    "    else:\n",
    "        return solve_next_value(diffs, last_vals)\n",
    "    \n",
    "    \n"
   ]
  },
  {
   "cell_type": "code",
   "execution_count": null,
   "id": "b3e3436d",
   "metadata": {},
   "outputs": [
    {
     "name": "stdout",
     "output_type": "stream",
     "text": [
      "[1, 3, 6, 10, 15, 21]\n",
      "[21] <<last_vals\n",
      "[21, 6] <<last_vals\n",
      "[21, 6, 1] <<last_vals\n",
      "[21, 6, 1]\n",
      "28\n"
     ]
    }
   ],
   "source": [
    "#Testing with sample data\n",
    "sample = '1 3 6 10 15 21'\n",
    "nums = [int(n) for n in sample.split()]\n",
    "print(nums)\n",
    "print(solve_next_value(nums, []))"
   ]
  },
  {
   "cell_type": "code",
   "execution_count": 14,
   "id": "e27d7c7a",
   "metadata": {},
   "outputs": [
    {
     "name": "stdout",
     "output_type": "stream",
     "text": [
      "Part 1 Answer: 1887980197\n"
     ]
    }
   ],
   "source": [
    "#Part 1 Solution\n",
    "tot = 0\n",
    "for l in lines:\n",
    "    nums = [int(n) for n in l.split()]\n",
    "    tot += solve_next_value(nums,[])\n",
    "\n",
    "print(f\"Part 1 Answer: {tot}\")"
   ]
  },
  {
   "cell_type": "code",
   "execution_count": null,
   "id": "119fcf61",
   "metadata": {},
   "outputs": [],
   "source": []
  }
 ],
 "metadata": {
  "kernelspec": {
   "display_name": "venv",
   "language": "python",
   "name": "python3"
  },
  "language_info": {
   "codemirror_mode": {
    "name": "ipython",
    "version": 3
   },
   "file_extension": ".py",
   "mimetype": "text/x-python",
   "name": "python",
   "nbconvert_exporter": "python",
   "pygments_lexer": "ipython3",
   "version": "3.13.2"
  }
 },
 "nbformat": 4,
 "nbformat_minor": 5
}
