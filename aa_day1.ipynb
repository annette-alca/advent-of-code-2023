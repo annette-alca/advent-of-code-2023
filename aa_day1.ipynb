{
 "cells": [
  {
   "cell_type": "markdown",
   "id": "3c16f421",
   "metadata": {},
   "source": [
    "This is my solution to https://adventofcode.com/2023/day/1.\n",
    "Written in Python and refactored in 2025. \n",
    "- Annette"
   ]
  },
  {
   "cell_type": "code",
   "execution_count": null,
   "metadata": {},
   "outputs": [
    {
     "data": {
      "text/plain": [
       "1000"
      ]
     },
     "execution_count": 1,
     "metadata": {},
     "output_type": "execute_result"
    }
   ],
   "source": [
    "#Open file and get information\n",
    "with open ('new_puzzle1.txt','r') as pz:\n",
    "    lines = pz.readlines()\n",
    "lines = [line.strip() for line in lines]\n",
    "len(lines)\n"
   ]
  },
  {
   "cell_type": "code",
   "execution_count": 2,
   "metadata": {},
   "outputs": [
    {
     "data": {
      "text/plain": [
       "54951"
      ]
     },
     "execution_count": 2,
     "metadata": {},
     "output_type": "execute_result"
    }
   ],
   "source": [
    "### PART 1\n",
    "# find the first digit and last digit in each line. This is your 2-digit number. Add it to total. Get total.\n",
    "def get_total_part1(lines = lines):\n",
    "    tot = 0\n",
    "    for line in lines:\n",
    "        for char in line:\n",
    "            if char.isdigit():\n",
    "                tot += int(char)*10\n",
    "                break\n",
    "        for char in line[::-1]:\n",
    "            if char.isdigit():\n",
    "                tot += int(char)\n",
    "                break\n",
    "    return tot\n",
    "\n",
    "get_total_part1()"
   ]
  },
  {
   "cell_type": "code",
   "execution_count": 3,
   "metadata": {},
   "outputs": [
    {
     "data": {
      "text/plain": [
       "55218"
      ]
     },
     "execution_count": 3,
     "metadata": {},
     "output_type": "execute_result"
    }
   ],
   "source": [
    "### part 2\n",
    "\n",
    "# words spelling 'one', 'two' etc count as digits\n",
    "# 2-digit numbers is still the first instance and last instance of digit or spelled-out digit\n",
    "\n",
    "part2_d = {'one': 1,'1': 1,'two': 2,'2': 2,'three': 3,'3': 3,'four': 4,'4': 4,'five': 5,'5': 5,\n",
    " 'six': 6,'6': 6,'seven': 7,'7': 7,'eight': 8,'8': 8,'nine': 9,'9': 9,'zero':0,'0':0}\n",
    "\n",
    "def get_total_part2(lines = lines):\n",
    "    tot = 0\n",
    "    for line in lines: #get substrings from front and back\n",
    "        i = 1\n",
    "        j = len(line)-1\n",
    "        while i <= len(line):\n",
    "            for d in part2_d:\n",
    "                if d in line[:i]:\n",
    "                    tot += 10 * part2_d[d]\n",
    "                    i = len(line)\n",
    "                    break\n",
    "            i +=1\n",
    "        while j>=0:\n",
    "            for d in part2_d:\n",
    "                if d in line[j:]:\n",
    "                    tot += part2_d[d]\n",
    "                    j = 0\n",
    "                    break\n",
    "            j-=1\n",
    "    return tot\n",
    "\n",
    "get_total_part2()"
   ]
  }
 ],
 "metadata": {
  "kernelspec": {
   "display_name": "venv",
   "language": "python",
   "name": "python3"
  },
  "language_info": {
   "codemirror_mode": {
    "name": "ipython",
    "version": 3
   },
   "file_extension": ".py",
   "mimetype": "text/x-python",
   "name": "python",
   "nbconvert_exporter": "python",
   "pygments_lexer": "ipython3",
   "version": "3.13.2"
  }
 },
 "nbformat": 4,
 "nbformat_minor": 5
}
