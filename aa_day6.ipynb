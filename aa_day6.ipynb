{
 "cells": [
  {
   "cell_type": "markdown",
   "id": "e5b056ce",
   "metadata": {},
   "source": [
    "My solution to https://adventofcode.com/2023/day/6.\n",
    "\n",
    "This was refactored in 2025.\n",
    "\n",
    "<ins>Part 1</ins> was solved in a brute force method, `get_distance` was used for every valid value of time.\n",
    "\n",
    "<ins>Part 2</ins> found just two winning conditions (the shortest and longest winning times) and calculated the number of values in between by subtraction.\n",
    "\n",
    "- Annette"
   ]
  },
  {
   "cell_type": "code",
   "execution_count": 14,
   "id": "cf2c933c",
   "metadata": {},
   "outputs": [],
   "source": [
    "#open file and get information\n",
    "with open ('puzzle6.txt', 'r') as race:\n",
    "    timetext, distancetext = race.read().splitlines()\n",
    "\n",
    "times = [int(t) for t in timetext.split() if t.isdigit()]\n",
    "distances = [int(d) for d in distancetext.split() if d.isdigit()]"
   ]
  },
  {
   "cell_type": "code",
   "execution_count": 21,
   "id": "2d2b5302",
   "metadata": {},
   "outputs": [],
   "source": [
    "#Part1 Functions\n",
    "\n",
    "def get_distance(TimeTotal,TimeHold):\n",
    "    '''give mm distance for msec variables entered'''\n",
    "    travelT = TimeTotal - TimeHold\n",
    "    velocity = TimeHold\n",
    "    distance = travelT*velocity\n",
    "    return distance\n",
    "\n",
    "def get_winning_holds(time_total, distance_record):\n",
    "    wins = 0\n",
    "    for hold in range(time_total):\n",
    "        if get_distance(time_total,hold) > distance_record:\n",
    "            wins +=1\n",
    "    return wins\n",
    "\n"
   ]
  },
  {
   "cell_type": "code",
   "execution_count": null,
   "id": "b472307a",
   "metadata": {},
   "outputs": [
    {
     "name": "stdout",
     "output_type": "stream",
     "text": [
      "Part1 Answer: 393120\n"
     ]
    }
   ],
   "source": [
    "#Part1 Solution\n",
    "product_of_wins=1\n",
    "for i in range(len(times)):\n",
    "    product_of_wins *= get_winning_holds(times[i],distances[i])\n",
    "\n",
    "print(f'Part1 Answer: {product_of_wins}')\n"
   ]
  },
  {
   "cell_type": "code",
   "execution_count": 27,
   "id": "6a3e69c3",
   "metadata": {},
   "outputs": [],
   "source": [
    "#Part2 get information\n",
    "one_time = int(''.join([str(t) for t in times]))\n",
    "one_distance = int(''.join([str(d) for d in distances]))\n"
   ]
  },
  {
   "cell_type": "code",
   "execution_count": null,
   "id": "0e7428d1",
   "metadata": {},
   "outputs": [
    {
     "name": "stdout",
     "output_type": "stream",
     "text": [
      "Part2 Answer: 36872656\n"
     ]
    }
   ],
   "source": [
    "#Part2 Strategy, Function, Solution\n",
    "def smarter_get_winning_holds(time_total, distance_record):\n",
    "    '''get the minimum winning hold, get the maximum winning hold.\n",
    "    everything in between will also win'''\n",
    "\n",
    "    for min_hold in range(1,time_total,1):\n",
    "        if get_distance(time_total,min_hold) > distance_record:\n",
    "            break\n",
    "    for max_hold in range(time_total-1,1,-1):\n",
    "        if get_distance(time_total,max_hold) > distance_record:\n",
    "            break\n",
    "    return max_hold-min_hold+1\n",
    "\n",
    "\n",
    "print(f'Part2 Answer: {smarter_get_winning_holds(one_time, one_distance)}')"
   ]
  }
 ],
 "metadata": {
  "kernelspec": {
   "display_name": "venv",
   "language": "python",
   "name": "python3"
  },
  "language_info": {
   "codemirror_mode": {
    "name": "ipython",
    "version": 3
   },
   "file_extension": ".py",
   "mimetype": "text/x-python",
   "name": "python",
   "nbconvert_exporter": "python",
   "pygments_lexer": "ipython3",
   "version": "3.13.2"
  }
 },
 "nbformat": 4,
 "nbformat_minor": 5
}
