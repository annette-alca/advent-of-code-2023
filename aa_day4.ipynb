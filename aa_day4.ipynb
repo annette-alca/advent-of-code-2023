{
 "cells": [
  {
   "cell_type": "markdown",
   "id": "01b1c696",
   "metadata": {},
   "source": [
    "This is my solution to https://adventofcode.com/2023/day/4\n",
    "I refactored this in 2025, using list comprehensions to shorten code in Part 1. \n",
    "Part 2 is the original solution, using a dictionary to keep track of the number of winning cards.\n",
    "- Annette"
   ]
  },
  {
   "cell_type": "code",
   "execution_count": 3,
   "metadata": {},
   "outputs": [
    {
     "name": "stdout",
     "output_type": "stream",
     "text": [
      "219 lines total.\n"
     ]
    }
   ],
   "source": [
    "#open input file and get information\n",
    "with open('new_puzzle4.txt','r') as tab:\n",
    "    lines = tab.read().splitlines()\n",
    "print(f'{len(lines)} lines total.')"
   ]
  },
  {
   "cell_type": "code",
   "execution_count": 4,
   "metadata": {},
   "outputs": [],
   "source": [
    "#Part 1 function\n",
    "def get_wins(l):\n",
    "    '''l = line of text'''\n",
    "    wintext = l[l.index(': ')+1:l.index(' |')]\n",
    "    trytext = l[l.index('| ') +1:]\n",
    "    wins = [int(w) for w in wintext.split()]\n",
    "    tries = [int(t) for t in trytext.split()]\n",
    "    matches = sum([t in wins for t in tries])\n",
    "    #print(wins,tries, matches)\n",
    "    return matches\n",
    "\n",
    "    "
   ]
  },
  {
   "cell_type": "code",
   "execution_count": 7,
   "metadata": {},
   "outputs": [
    {
     "name": "stdout",
     "output_type": "stream",
     "text": [
      "Part1 Answer: 33950\n"
     ]
    }
   ],
   "source": [
    "# Part 1 Solution\n",
    "\n",
    "tot=0\n",
    "for l in lines:\n",
    "    if get_wins(l)>0:\n",
    "        points = 2**(get_wins(l)-1)\n",
    "    else:\n",
    "        points=0\n",
    "    tot+=points\n",
    "    # print(l[:l.index(': ')+1], points,tot)\n",
    "\n",
    "print(f'Part1 Answer: {tot}')"
   ]
  },
  {
   "cell_type": "code",
   "execution_count": 29,
   "metadata": {},
   "outputs": [
    {
     "name": "stdout",
     "output_type": "stream",
     "text": [
      "1 [1, 0]\n",
      "2 [1, 10]\n",
      "3 [1, 10]\n"
     ]
    }
   ],
   "source": [
    "#Part2 A. Create cardvals dictionary\n",
    "# cardvals[cardname] = [no_of_cards,points from card]\n",
    "# set no_of_cards to 1 at start of game\n",
    "cardvals = {}\n",
    "for l in lines:\n",
    "    cardtext = l[5:l.index(': ')]\n",
    "    card = int(cardtext)\n",
    "    cardvals[card] = [1,get_wins(l)]\n",
    "for i in range(1,4):\n",
    "    print(i,cardvals[i])\n"
   ]
  },
  {
   "cell_type": "code",
   "execution_count": null,
   "metadata": {},
   "outputs": [
    {
     "name": "stdout",
     "output_type": "stream",
     "text": [
      "1 [1, 0]\n",
      "2 [1, 10]\n",
      "3 [2, 10]\n"
     ]
    }
   ],
   "source": [
    "#Part2 B. Update cardvals dictionary as game is played\n",
    "\n",
    "for c in range(1,len(cardvals)+1):\n",
    "    for times in range(cardvals[c][0]): #number of times you do this = number of that specific card\n",
    "        for take in range(1,cardvals[c][1]+1):\n",
    "            cardvals[c+take][0] = cardvals[c+take][0]+1 #taking copies of the next cards\n",
    "\n",
    "for i in range(1,4):\n",
    "    print(i,cardvals[i])"
   ]
  },
  {
   "cell_type": "code",
   "execution_count": 34,
   "metadata": {
    "scrolled": true
   },
   "outputs": [
    {
     "name": "stdout",
     "output_type": "stream",
     "text": [
      "Part2 Answer: 14814534\n"
     ]
    }
   ],
   "source": [
    "#Part2 C. Solution. Get card totals\n",
    "cardtots=0\n",
    "for c in cardvals:\n",
    "    cardtots += cardvals[c][0]\n",
    "print(f'Part2 Answer: {cardtots}')"
   ]
  }
 ],
 "metadata": {
  "kernelspec": {
   "display_name": "venv",
   "language": "python",
   "name": "python3"
  },
  "language_info": {
   "codemirror_mode": {
    "name": "ipython",
    "version": 3
   },
   "file_extension": ".py",
   "mimetype": "text/x-python",
   "name": "python",
   "nbconvert_exporter": "python",
   "pygments_lexer": "ipython3",
   "version": "3.13.2"
  }
 },
 "nbformat": 4,
 "nbformat_minor": 5
}
