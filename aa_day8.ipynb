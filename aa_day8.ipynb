{
 "cells": [
  {
   "cell_type": "markdown",
   "id": "8e8dde87",
   "metadata": {
    "vscode": {
     "languageId": "plaintext"
    }
   },
   "source": [
    "My solution to https://adventofcode.com/2023/day/8\n",
    "\n",
    "This is a fun puzzle that involves a binary tree, finding our way from AAA to ZZZ through nodes. I chose to represent the nodes as dictionaries, where key is the value and a list of two items for the left and right leaves.\n",
    "\n",
    "Nodes are collected using the get_node function below. \n",
    "\n",
    "Following either 'L' or 'R' from the directions (a string comprised of Ls and Rs), the get_next_node function leads to the next node. \n",
    "\n",
    "Part 1 starts from a single node 'AAA' and counts the number of steps to 'ZZZ'. A recursive function, recurse_to_ZZZ is used to solve this. It requires recusion > 1000 steps so the limit has been raised in the next block. Recursive functions are too much fun not to use.\n",
    "\n",
    "Part 2 involves following all nodes that end in 'A'. We follow directions until all nodes end in 'Z'. I wrote a recursive function to satisfy that all 6 paths from 'A' nodes end in 'Z' nodes simultaneously, but this hit the new recursion limit I set. This was clearly not the best approach. \n",
    "\n",
    "I wrote a recursive function, recurse_to_oneZ, to to solve each of the 6 'A' nodes ending in 'Z' nodes individually. After collecting the number of moves in a list, I calculated that they were all a product of len(directions) and a prime number. This means they are cycling through the same nodes at regular intervals. Calculating the product of all the prime numbers and the len(directions) gives the earliest time we have simultaneous Z nodes. \n",
    "\n",
    "-Annette"
   ]
  },
  {
   "cell_type": "code",
   "execution_count": 66,
   "id": "58d0e57e",
   "metadata": {},
   "outputs": [],
   "source": [
    "#increase recursion limit because recursive functions are too much fun not to use.\n",
    "#numpy was used in Part 2\n",
    "import sys\n",
    "sys.setrecursionlimit(50000)\n",
    "import numpy as np"
   ]
  },
  {
   "cell_type": "code",
   "execution_count": 4,
   "id": "19a25e41",
   "metadata": {},
   "outputs": [],
   "source": [
    "#open file, get information\n",
    "\n",
    "with open(\"puzzle8.txt\",\"r\") as f:\n",
    "    lines = f.read().splitlines()"
   ]
  },
  {
   "cell_type": "code",
   "execution_count": null,
   "id": "53b027d1",
   "metadata": {},
   "outputs": [],
   "source": [
    "#Part 1 Functions and Getting Initial Values\n",
    "def get_node(line):\n",
    "    key = line[:3]\n",
    "    values = line[7:-1].split(', ')\n",
    "    return key,values\n",
    "\n",
    "\n",
    "#get directions from text\n",
    "directions = lines[0]\n",
    "\n",
    "#get node_list from text\n",
    "node_dict = {get_node(line)[0]:get_node(line)[1] for line in lines[2:]}\n",
    "\n",
    "\n",
    "def get_next_node(values, direction):\n",
    "    guide = {\"L\":0, \"R\":1}\n",
    "    return values[guide[direction]]\n",
    "\n",
    "def recurse_to_ZZZ(value,counter):\n",
    "    global node_dict, directions\n",
    "    d = directions[counter%len(directions)]\n",
    "    next_val = get_next_node(node_dict[value],d)\n",
    "\n",
    "    counter +=1\n",
    "    if next_val=='ZZZ':\n",
    "        return f\"ZZZ found after {counter} moves.\"\n",
    "    else:\n",
    "        return recurse_to_ZZZ(next_val,counter)\n",
    "\n"
   ]
  },
  {
   "cell_type": "code",
   "execution_count": 6,
   "id": "57df8780",
   "metadata": {},
   "outputs": [
    {
     "name": "stdout",
     "output_type": "stream",
     "text": [
      "Part 1 Answer:\n",
      "ZZZ found after 16897 moves.\n"
     ]
    }
   ],
   "source": [
    "#Part 1 Solution\n",
    "answer = recurse_to_ZZZ('AAA',0)\n",
    "print(f\"Part 1 Answer:\\n{answer}\")"
   ]
  },
  {
   "cell_type": "code",
   "execution_count": 70,
   "id": "531e1bcc",
   "metadata": {},
   "outputs": [],
   "source": [
    "#Part2 Initial Values and Function\n",
    "\n",
    "starter_vals= [key for key in node_dict.keys() if key.endswith('A')]\n",
    "\n",
    "def recurse_part2(starter_vals, counter): #not used\n",
    "    global node_dict, directions\n",
    "    d = directions[counter%len(directions)]\n",
    "    next_vals = [get_next_node(node_dict[val], d) for val in starter_vals]\n",
    "    counter +=1\n",
    "    if all([next_val.endswith('Z') for next_val in next_vals]):\n",
    "        return f\"All Z-ending values after {counter} moves.\"\n",
    "    else:\n",
    "        return recurse_part2(next_vals,counter)\n",
    "\n",
    "def recurse_to_oneZ(value,counter): #used\n",
    "    global node_dict, directions\n",
    "    d = directions[counter%len(directions)]\n",
    "    next_val = get_next_node(node_dict[value],d)\n",
    "\n",
    "    counter +=1\n",
    "    if next_val.endswith('Z'):\n",
    "        # print (f\"{next_val} found after {counter} moves.\")\n",
    "        return counter\n",
    "    else:\n",
    "        return recurse_to_oneZ(next_val,counter)\n",
    "    "
   ]
  },
  {
   "cell_type": "code",
   "execution_count": null,
   "id": "4bbeb50a",
   "metadata": {},
   "outputs": [
    {
     "name": "stdout",
     "output_type": "stream",
     "text": [
      "Part 2 Answer: 16563603485021 moves\n"
     ]
    }
   ],
   "source": [
    "#Part2 Solution\n",
    "moves = [recurse_to_oneZ(s,0) for s in starter_vals]\n",
    "cycles = [m//len(directions) for m in moves] #they are all divisible by this number and are primer numbers\n",
    "answer = np.prod(cycles)*len(directions)\n",
    "print(f\"Part 2 Answer: {answer} moves\")\n"
   ]
  }
 ],
 "metadata": {
  "kernelspec": {
   "display_name": "venv",
   "language": "python",
   "name": "python3"
  },
  "language_info": {
   "codemirror_mode": {
    "name": "ipython",
    "version": 3
   },
   "file_extension": ".py",
   "mimetype": "text/x-python",
   "name": "python",
   "nbconvert_exporter": "python",
   "pygments_lexer": "ipython3",
   "version": "3.13.2"
  }
 },
 "nbformat": 4,
 "nbformat_minor": 5
}
