{
 "cells": [
  {
   "cell_type": "markdown",
   "id": "62b34903",
   "metadata": {},
   "source": [
    "My solution to https://adventofcode.com/2023/day/14.\n",
    "\n",
    "Rolling rocks and calculating weight on the north (Part 1) or east (Part 2) fence.\n",
    "\n",
    "<ins>Part 1</ins> is solved using the functions below. \n",
    "- `get_perpendicular_mtx` first transposes the matrix so that every column is a string\n",
    "- `calc_weight` calculates the weight of all rolling rocks 'O' in that column, taking into account that they can't go past square rocks '#'. This is done by splitting the column string into segments between '#' and taking note of the starting position of every new segment (the list ind_new). \n",
    "\n",
    "<ins>Part 2</ins> asks for the weight of the matrix on a fence after 1000000000 spin cycles (each with four tilts North, West, South, East). \n",
    "I did not even attempt to run my functions this many times! Instead, the solution below calculates the periodicity of the spin cycles (the matrix patterns repeat every 70 cycles) and the first point at which this periodicity occurs (at 80). The rest is maths. \n",
    "\n",
    "\n",
    "-Annette"
   ]
  },
  {
   "cell_type": "code",
   "execution_count": 17,
   "id": "72d0c46d",
   "metadata": {},
   "outputs": [
    {
     "data": {
      "text/plain": [
       "100"
      ]
     },
     "execution_count": 17,
     "metadata": {},
     "output_type": "execute_result"
    }
   ],
   "source": [
    "#get file and info.\n",
    "\n",
    "filename = 'day14_input.txt'\n",
    "\n",
    "with open (filename,'r') as f:\n",
    "    lines = f.read().splitlines()\n",
    "\n",
    "len(lines)"
   ]
  },
  {
   "cell_type": "code",
   "execution_count": 18,
   "id": "00181e85",
   "metadata": {},
   "outputs": [],
   "source": [
    "#Part 1 Function\n",
    "\n",
    "def get_perpendicular_mtx(lines: list) -> (str, int):\n",
    "    '''\n",
    "    Args:\n",
    "        mtx : list of rows or lines from text\n",
    "    Returns:\n",
    "        vtx : list of columns from text up to first #\n",
    "        distance : distance of top row from bottom row = len of lines\n",
    "    '''\n",
    "    mtx = lines.copy()\n",
    "    lastcol = len(mtx[0])\n",
    "    vtx = [''.join([line[i] for line in mtx]) for i in range(lastcol)]\n",
    "    return vtx, len(lines)\n",
    "\n",
    "def calc_weight(column: str, distance: int) -> int:\n",
    "    '''\n",
    "    Args:\n",
    "        column : string representing vertical column from north fence to south fence\n",
    "        distance : integer representing distance from north to south fence\n",
    "    Returns:\n",
    "        weight_on_fence : integer representing weight of all round rocks on fence\n",
    "    '''\n",
    "    #indices of spot after '#' that first 'O' will occupy after tilting\n",
    "    inds_new = [i for i in range(1,distance+1,1) if column[i-1] == '#'] \n",
    "    inds_new.insert(0,0)\n",
    "\n",
    "    #split column into segments that are separated by '#'\n",
    "    segments = column.split('#')\n",
    " \n",
    "    weight_on_fence = 0 #total\n",
    " \n",
    "    #calculate weight of every 'O' and add it to the total\n",
    "    for ind,segment in enumerate(segments):\n",
    "        round_count = segment.count('O')\n",
    "        weight_on_fence += sum([distance - inds_new[ind] - j for j in range(round_count)])\n",
    "    return weight_on_fence\n"
   ]
  },
  {
   "cell_type": "code",
   "execution_count": 19,
   "id": "8e9edc8b",
   "metadata": {},
   "outputs": [
    {
     "data": {
      "text/plain": [
       "'Part 1 Answer: 109466'"
      ]
     },
     "execution_count": 19,
     "metadata": {},
     "output_type": "execute_result"
    }
   ],
   "source": [
    "# Part 1 Solution\n",
    "vtx, distance = get_perpendicular_mtx(lines)\n",
    "total_weight = sum([calc_weight(col, distance) for col in vtx])\n",
    "(f'Part 1 Answer: {total_weight}')"
   ]
  },
  {
   "cell_type": "code",
   "execution_count": 29,
   "id": "b04bd2a4",
   "metadata": {},
   "outputs": [],
   "source": [
    "#Part 2 Functions\n",
    "\n",
    "def roll_rocks(column: str, direction: str) -> str:\n",
    "    '''\n",
    "    Args:\n",
    "        column : string representing column, after 90 degree turn\n",
    "        direction : one of 'N','S','E','W'\n",
    "    Returns:\n",
    "        tilted_column : new string where round rocks have rolled to the edge or to the next square rock\n",
    "    '''\n",
    "    # print(column, direction)\n",
    "\n",
    "    segments = column.split('#')\n",
    "    rolled_segments = []\n",
    "    for segment in segments:\n",
    "        round_count = segment.count('O')\n",
    "        if direction in ['N','W']:\n",
    "            rolled_segments.append('O' * round_count + '.' * (len(segment)-round_count))\n",
    "        else:\n",
    "            rolled_segments.append( '.' * (len(segment)-round_count) + 'O' * round_count)\n",
    "    tilted_column = '#'.join(rolled_segments)\n",
    "    return tilted_column\n",
    "\n",
    "\n",
    "def tilt_mtx(mtx: list, direction: str):\n",
    "    '''\n",
    "    Args:\n",
    "        mtx : list of strings\n",
    "        direction : string, representing direction of tilt\n",
    "    Other Functions Used:\n",
    "        roll_rocks\n",
    "    Returns:\n",
    "        ttx : list of strings, tilted matrix\n",
    "    '''\n",
    "    vtx, distance = get_perpendicular_mtx(mtx)\n",
    "    # print(vtx)\n",
    "    newtx = [roll_rocks(column, direction) for column in vtx ]\n",
    "    return newtx\n",
    "\n",
    "def spin_cycle(mtx: list) -> (list, distance):\n",
    "    '''\n",
    "    Args:\n",
    "        mtx : list of strings\n",
    "    Other Functions Used:\n",
    "        tilt_mtx\n",
    "    Returns:\n",
    "        mtx : updated list of strings after 1 spin cycle\n",
    "        distance : len of the mtx list\n",
    "    '''\n",
    "    directions = list('NWSE')  \n",
    "    for d in directions:\n",
    "        mtx = tilt_mtx(mtx, d)\n",
    "        # print(d, mtx)\n",
    "    distance = len(mtx)\n",
    "    return mtx, distance\n",
    "\n",
    "def get_periodicity(mtx: list):\n",
    "    '''\n",
    "    Args:\n",
    "        mtx : list of strings\n",
    "    Other Functions Used:\n",
    "        spin_cycle\n",
    "    Returns:\n",
    "        periodicity: int, number of cycles matrix patterns are repeated \n",
    "        start_period : int, 1st cycle in periodicity\n",
    "    '''\n",
    "    mtx = lines.copy()\n",
    "    mtx_dict = {} #capture cycle numbers of the same matrices reoccuring\n",
    "    for cycle in range(500):\n",
    "        mtx,distance = spin_cycle(mtx)\n",
    "        mtx_str = str(mtx)\n",
    "        mt_occurs_at = mtx_dict.get(mtx_str,[])\n",
    "        mt_occurs_at.append(cycle)\n",
    "        mtx_dict[mtx_str] = mt_occurs_at\n",
    "    first_repeating = [repeating for repeating in mtx_dict.values() if len(repeating)>2][0]\n",
    "    diffs = [first_repeating[i+1]-first_repeating[i] for i in range(len(first_repeating)-1)]\n",
    "    if len(set(diffs)) == 1: #diffs between cycles are the same\n",
    "        periodicity = diffs[0]\n",
    "        start_cycle = first_repeating[0]\n",
    "    return periodicity, start_cycle\n",
    "\n",
    "def get_mtx_at_1000000000(lines: list, periodicity: int, start_cycle: int) -> list:\n",
    "    mtx = lines.copy()\n",
    "    end_cycle = 1000000000\n",
    "    periodicity, start_cycle = get_periodicity(mtx)\n",
    "    cycle = (end_cycle) % periodicity + (start_cycle//periodicity + 1)*periodicity\n",
    "    print(f'{end_cycle}th cycle is the same as cycle number {cycle}')\n",
    "    for c in range(cycle):\n",
    "        mtx, distance = spin_cycle(mtx)\n",
    "    return mtx\n",
    "\n",
    "    \n",
    "def calc_weight_p2(mtx: list, direction = 'E'):\n",
    "    '''\n",
    "    Args:\n",
    "        mtx : list of strings\n",
    "        direction : string, representing direction of tilt\n",
    "            : east by default, spin cycle ends east\n",
    "    Returns:\n",
    "        mtx_weight_on_fence : integer, total weight on fence\n",
    "    '''\n",
    "    distance = len(mtx[0])\n",
    "    # print(distance, mtx)\n",
    "    if direction in ['S','E']:\n",
    "        total_weight = sum([sum([i for i in range(distance) if column[i] == 'O']) for column in mtx])\n",
    "    else:\n",
    "        total_weight = sum([sum([distance-i for i in range(distance) if column[i] == 'O']) for column in mtx])\n",
    "    return total_weight"
   ]
  },
  {
   "cell_type": "code",
   "execution_count": 30,
   "id": "c4ab2d5b",
   "metadata": {},
   "outputs": [
    {
     "name": "stdout",
     "output_type": "stream",
     "text": [
      "70 80 <<< periodicity from cycle\n",
      "1000000000th cycle is the same as cycle number 160\n",
      "Part 2 Answer: 94585\n"
     ]
    }
   ],
   "source": [
    "# Part 2 Solution\n",
    "periodicity, start_cycle = get_periodicity(lines)\n",
    "print(periodicity, start_cycle,'<<< periodicity from cycle')\n",
    "end_mtx = get_mtx_at_1000000000(lines, periodicity, start_cycle)\n",
    "\n",
    "vtx, distance = get_perpendicular_mtx(end_mtx)\n",
    "end_weight = calc_weight_p2(vtx,'N')\n",
    "print(f'Part 2 Answer: {end_weight}')\n",
    "\n"
   ]
  }
 ],
 "metadata": {
  "kernelspec": {
   "display_name": "venv",
   "language": "python",
   "name": "python3"
  },
  "language_info": {
   "codemirror_mode": {
    "name": "ipython",
    "version": 3
   },
   "file_extension": ".py",
   "mimetype": "text/x-python",
   "name": "python",
   "nbconvert_exporter": "python",
   "pygments_lexer": "ipython3",
   "version": "3.13.2"
  }
 },
 "nbformat": 4,
 "nbformat_minor": 5
}
