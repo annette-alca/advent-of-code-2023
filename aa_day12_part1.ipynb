{
 "cells": [
  {
   "cell_type": "markdown",
   "id": "c7e889eb",
   "metadata": {},
   "source": [
    "My solution to https://adventofcode.com/2023/day/12.\n",
    "\n",
    "<ins>Part 1</ins> is solved in a brute force way by listing all possible string combinations replacing every ? with either . or # (using product from itertools). Then adding all combinations that fit the string pattern (using regex).\n",
    "\n",
    "Above solution won't scale to <ins>Part 2</ins>, I'm still thinking of how to approach this.\n",
    "\n",
    "-Annette"
   ]
  },
  {
   "cell_type": "code",
   "execution_count": 1,
   "id": "d3e14123",
   "metadata": {},
   "outputs": [],
   "source": [
    "import re\n",
    "from itertools import product\n"
   ]
  },
  {
   "cell_type": "code",
   "execution_count": 2,
   "id": "599cec09",
   "metadata": {},
   "outputs": [
    {
     "data": {
      "text/plain": [
       "1000"
      ]
     },
     "execution_count": 2,
     "metadata": {},
     "output_type": "execute_result"
    }
   ],
   "source": [
    "#get text and information\n",
    "file = 'day12_input.txt'\n",
    "\n",
    "with open (file,'r') as f:\n",
    "    lines = f.read().splitlines()\n",
    "\n",
    "len(lines)\n"
   ]
  },
  {
   "cell_type": "code",
   "execution_count": 3,
   "id": "d11c184d",
   "metadata": {},
   "outputs": [],
   "source": [
    "#Part 1 Functions\n",
    "\n",
    "def split_line(line:str) -> (str, list[int]):\n",
    "    '''\n",
    "    Args:\n",
    "        line from raw text\n",
    "    Returns: \n",
    "        text : string from left side of line\n",
    "        nums : list of integers from right side of line\n",
    "    '''\n",
    "    text, numstr = line.split(' ')\n",
    "    nums = [int(item) for item in numstr.split(',')]\n",
    "    return text, nums\n",
    "\n",
    "def get_pattern(nums:list) -> str:\n",
    "    '''\n",
    "    Args:\n",
    "        nums : list of integers from split_line\n",
    "    Returns:\n",
    "        pattern : string to be used as a regex pattern'''\n",
    "    pattern = '.*'\n",
    "    for n in nums:\n",
    "        pattern += '#' * n\n",
    "        pattern += '[.]{1,}'\n",
    "    pattern =  pattern[:-4] + '*' #replace {1,} with * \n",
    "    return pattern\n",
    "\n",
    "def string_combinations(text) -> str:\n",
    "    '''\n",
    "    Arg: \n",
    "        text from lines\n",
    "    Uses: \n",
    "        product from itertools\n",
    "    Returns: \n",
    "        all string combinations by replacing every ? with either . or #, total combinations is the number of ? exp 2\n",
    "    '''\n",
    "    string_combis = []\n",
    "    qs = [j for j in range(len(text)) if text[j]=='?' ] #indices of ? to be changed to either . or #\n",
    "    if len(qs) == 0: #case when there are no ? in text\n",
    "        return ([text])    \n",
    "    substrings = [text[:qs[0]]] #first substring\n",
    "\n",
    "    substrings += [text[qs[i]+1:qs[i+1]] for i in range(len(qs)-1)] #middle substrings\n",
    "    substrings.append(text[qs[-1]+1:]) #last substring\n",
    "\n",
    "\n",
    "    combis = product('#.', repeat=len(qs))\n",
    "    for combi in combis:\n",
    "        new_text_list = [substrings[k] + combi[k] for k in range(len(combi))]\n",
    "        new_text_list.append(substrings[-1])\n",
    "        string_combis.append(''.join(new_text_list))\n",
    "    return string_combis\n",
    "    \n",
    "\n",
    "def count_matches(text, nums) -> int:\n",
    "    '''\n",
    "    Args:\n",
    "        text from lines\n",
    "        nums : list of integers from split_line\n",
    "    Returns:\n",
    "        total of string combinations that match the pattern but won't match if an extra # \n",
    "            is added at the beginning of the pattern\n",
    "    '''\n",
    "    pattern = get_pattern(nums)\n",
    "    string_combis = string_combinations(text)\n",
    "    re_pattern = re.compile(pattern)\n",
    "    extra_pattern = re.compile('.*#' + pattern) #extra # at beginning, strings that match this won't be counted\n",
    "    matches = 0\n",
    "    for string in string_combis:\n",
    "        if re_pattern.fullmatch(string) and not extra_pattern.fullmatch(string):\n",
    "            # print(string)\n",
    "            matches += 1\n",
    "    return matches\n",
    "\n",
    "\n",
    "\n",
    "\n",
    "\n",
    "\n",
    "\n",
    "        "
   ]
  },
  {
   "cell_type": "code",
   "execution_count": 4,
   "id": "fdd0ceb8",
   "metadata": {},
   "outputs": [
    {
     "name": "stdout",
     "output_type": "stream",
     "text": [
      "Part1 Answer: 7705\n"
     ]
    }
   ],
   "source": [
    "#Part 1 solution\n",
    "tot_match = 0\n",
    "for l in lines:\n",
    "    text,nums = split_line(l)\n",
    "    matches = count_matches(text, nums)\n",
    "    tot_match += matches\n",
    "print(f'Part1 Answer: {tot_match}')\n"
   ]
  }
 ],
 "metadata": {
  "kernelspec": {
   "display_name": "venv",
   "language": "python",
   "name": "python3"
  },
  "language_info": {
   "codemirror_mode": {
    "name": "ipython",
    "version": 3
   },
   "file_extension": ".py",
   "mimetype": "text/x-python",
   "name": "python",
   "nbconvert_exporter": "python",
   "pygments_lexer": "ipython3",
   "version": "3.13.2"
  }
 },
 "nbformat": 4,
 "nbformat_minor": 5
}
