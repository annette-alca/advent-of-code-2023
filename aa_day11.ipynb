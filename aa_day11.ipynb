{
 "cells": [
  {
   "cell_type": "markdown",
   "id": "0add65e0",
   "metadata": {},
   "source": [
    "My solution to https://adventofcode.com/2023/day/11.\n",
    "\n",
    "<ins>Part1</ins> is solved following the process described in the AoC text. The universe or mtx (for matrix) is represented as a list of strings. \n",
    "- `expand_universe` duplicates rows and columns that are entirely made of '.' representing empty space.\n",
    "- `get_galaxies` returns the coordinates of every '#' representing galaxies.\n",
    "- `sum_distances` returns the total of x,y distances between all pairs of galaxies based on the list of coordinates. \n",
    "\n",
    "<ins>Part2</ins>, as AoC tends to do, shows that the <ins>Part1</ins> solution is not scalable. Rows and columns represnting empty space are increased a million-fold instead of being duplicated. Instead of expanding the mtx object representing the universe, the solution keeps track of rows and columns that are to be replaced by a million (1000000) rows or columns.\n",
    "- `get_galaxies` from Part1 is applied to the original mtx to generate the coordinates of the galaxies.\n",
    "- `track_expansions` returns the rows and columns of the mtx that will be increased a million-fold.\n",
    "- `sum_distances_P2` returns the total x,y distances between all pairs of galaxies while adding 999999 (a million minus one) for every empty row or column between individual pairs of galaxies.\n"
   ]
  },
  {
   "cell_type": "code",
   "execution_count": 1,
   "id": "a149f904",
   "metadata": {},
   "outputs": [
    {
     "name": "stdout",
     "output_type": "stream",
     "text": [
      "The universe is a matrix of 140 rows and 140 columns.\n"
     ]
    }
   ],
   "source": [
    "#open file as df\n",
    "import pandas as pd\n",
    "\n",
    "filename = 'day11_input.txt'\n",
    "with open (filename,'r') as f:\n",
    "    mtx = f.read().splitlines()\n",
    "\n",
    "print(f'The universe is a matrix of {len(mtx)} rows and {len(mtx[0])} columns.')"
   ]
  },
  {
   "cell_type": "code",
   "execution_count": 2,
   "id": "10e44f1d",
   "metadata": {},
   "outputs": [],
   "source": [
    "#Part 1 Functions\n",
    "\n",
    "def expand_universe(mtx_orig: list[str]) -> list[str]:\n",
    "    '''\n",
    "    Args:\n",
    "        mtx_orig : matrix as list of strings\n",
    "    Returns:\n",
    "        mtx : empty rows and columns of the original are duplicated, a longer list of longer strings\n",
    "    '''\n",
    "    mtx = mtx_orig.copy()\n",
    "    empty_row = '.' * len(mtx[0])\n",
    "\n",
    "    for row in range(len(mtx)-1,-1,-1):\n",
    "        if mtx[row] == empty_row:\n",
    "            mtx.insert(row,empty_row)\n",
    "\n",
    "    totcols = len(mtx[0])\n",
    "    totrows = len(mtx) #this has expanded\n",
    "\n",
    "    for col in range(totcols-1,-1,-1):\n",
    "        if all([mtx[row][col] == '.' for row in range(totrows)]):\n",
    "            for row in range(totrows):\n",
    "                mtx[row] = mtx[row][:col] + '.' + mtx[row][col:] \n",
    "    return mtx\n",
    "\n",
    "def get_galaxies(mtx:list) -> list:\n",
    "    '''\n",
    "    Args:\n",
    "        mtx : matrix as list of strings\n",
    "    Returns:\n",
    "        coordinates : list of (row,col) coordinates of '#' representing a galaxy\n",
    "    '''\n",
    "    coordinates = []\n",
    "    for row in range(len(mtx)):\n",
    "        for col in range(len(mtx[0])):\n",
    "            if mtx[row][col] == '#':\n",
    "                coordinates.append((row,col))\n",
    "    return coordinates\n",
    "\n",
    "def sum_distances(coordinates:list) -> int:\n",
    "    '''\n",
    "    Args:\n",
    "        coordinates: list of (row,col) coordinates\n",
    "    Returns: \n",
    "        total_distance : integer, sum of the distance (row difference + col difference) between every pair of coordinates\n",
    "    '''\n",
    "    total_distance = 0\n",
    "    for i in range(len(coordinates)-1):\n",
    "        for j in range(i+1,len(coordinates)):\n",
    "            yi,xi = coordinates[i]\n",
    "            yj,xj = coordinates[j]\n",
    "            distance = abs(xj-xi) + abs(yj-yi)\n",
    "            total_distance += distance\n",
    "\n",
    "    return total_distance\n",
    "\n",
    "    "
   ]
  },
  {
   "cell_type": "code",
   "execution_count": 3,
   "id": "0187424e",
   "metadata": {},
   "outputs": [
    {
     "name": "stdout",
     "output_type": "stream",
     "text": [
      "Part1 Answer: 9556896\n"
     ]
    }
   ],
   "source": [
    "#Part 1 Solution\n",
    "mtx_expanded = expand_universe(mtx)\n",
    "galaxies = get_galaxies(mtx_expanded)\n",
    "total_distance = sum_distances(galaxies)\n",
    "print(f'Part1 Answer: {total_distance}')"
   ]
  },
  {
   "cell_type": "code",
   "execution_count": 4,
   "id": "6823b68e",
   "metadata": {},
   "outputs": [],
   "source": [
    "#Part 2 Functions\n",
    "def track_expansions(mtx:list) -> (list[int], list[int]):\n",
    "    '''Args:\n",
    "        mtx: matrix as list of strings\n",
    "    Returns: \n",
    "        empty_rows: rows with only '.' \n",
    "        empty_cols: columns with only '.'\n",
    "    '''\n",
    "    totrows = len(mtx)\n",
    "    totcols = len(mtx[0])\n",
    "    empty_rows = [row for row in range(totrows) if set(mtx[row]) == {'.'}]\n",
    "    empty_cols = [col for col in range(totcols) if all([mtx[row][col] == '.' for row in range(totrows)])]\n",
    "    return empty_rows, empty_cols\n",
    "\n",
    "def sum_distances_P2(coordinates: list, empty_rows: list, empty_cols: list, multiplier: int) -> int:\n",
    "    '''\n",
    "    Args:\n",
    "        coordinates : list of (row,col) coordinates\n",
    "        empty_rows : list of rows with only '.', these are replaced by empty rows * multiplier\n",
    "        empty_cols: list of columns with only '.', these are replaced by empty columns * multiplier\n",
    "        multiplier : int\n",
    "    Returns: \n",
    "        total_distance : integer, sum of the distance (row difference + col difference) between \n",
    "            every pair of coordinates while adding an extra value (multiplier - 1) for every \n",
    "            empty row or column between coordinates\n",
    "    '''\n",
    "    mult = multiplier-1\n",
    "    total_distance = 0\n",
    "    for i in range(len(coordinates)-1):\n",
    "        for j in range(i+1,len(coordinates)):\n",
    "            yi,xi = coordinates[i]\n",
    "            yj,xj = coordinates[j]\n",
    "            x_distance = abs(xj-xi) + mult*sum([col in range(min(xi,xj),max(xi,xj)) for col in empty_cols])\n",
    "            y_distance = abs(yj-yi) + mult*sum([row in range(min(yi,yj),max(yi,yj)) for row in empty_rows])\n",
    "            total_distance += x_distance + y_distance\n",
    "    return total_distance\n",
    "    \n"
   ]
  },
  {
   "cell_type": "code",
   "execution_count": 5,
   "id": "945dbeac",
   "metadata": {},
   "outputs": [
    {
     "name": "stdout",
     "output_type": "stream",
     "text": [
      "example with multiplier 10: 1030\n",
      "example with multiplier 100: 8410\n"
     ]
    }
   ],
   "source": [
    "#Part 2 Test with AoC example gives expected values\n",
    "samplefile = 'day11_sample.txt'\n",
    "with open (samplefile,'r') as f:\n",
    "    stx = f.read().splitlines()\n",
    "    \n",
    "s_galaxies = get_galaxies(stx)\n",
    "s_empty_rows, s_empty_cols = track_expansions(stx)\n",
    "ten_dist = sum_distances_P2(s_galaxies, s_empty_rows, s_empty_cols, 10)\n",
    "hundred_dist = sum_distances_P2(s_galaxies, s_empty_rows, s_empty_cols, 100)\n",
    "print(f'example with multiplier 10: {ten_dist}')\n",
    "print(f'example with multiplier 100: {hundred_dist}')\n"
   ]
  },
  {
   "cell_type": "code",
   "execution_count": 7,
   "id": "563334b9",
   "metadata": {},
   "outputs": [
    {
     "name": "stdout",
     "output_type": "stream",
     "text": [
      "Part2 Answer: 685038186836\n"
     ]
    }
   ],
   "source": [
    "#Part 2 Solution\n",
    "galaxies_p2 = get_galaxies(mtx)\n",
    "empty_rows, empty_cols = track_expansions(mtx)\n",
    "sum_distances_1000000 = sum_distances_P2(galaxies_p2, empty_rows, empty_cols, 1000000)\n",
    "\n",
    "print(f'Part2 Answer: {sum_distances_1000000}')"
   ]
  }
 ],
 "metadata": {
  "kernelspec": {
   "display_name": "venv",
   "language": "python",
   "name": "python3"
  },
  "language_info": {
   "codemirror_mode": {
    "name": "ipython",
    "version": 3
   },
   "file_extension": ".py",
   "mimetype": "text/x-python",
   "name": "python",
   "nbconvert_exporter": "python",
   "pygments_lexer": "ipython3",
   "version": "3.13.2"
  }
 },
 "nbformat": 4,
 "nbformat_minor": 5
}
