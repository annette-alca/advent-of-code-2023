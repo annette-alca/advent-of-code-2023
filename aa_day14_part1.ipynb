{
 "cells": [
  {
   "cell_type": "markdown",
   "id": "62b34903",
   "metadata": {},
   "source": [
    "My solution to https://adventofcode.com/2023/day/14.\n",
    "\n",
    "Rolling rocks and calculating weight on the north fence.\n",
    "\n",
    "Only <ins>Part 1</ins> is solved below. \n",
    "- `get_vertical_mtx` first transposes the matrix so that every column is a string\n",
    "- `calc_weight` calculates the weight of all rolling rocks 'O' in that column, taking into account that they can't go past square rocks '#'. This is done by splitting the column string into segments between '#' and taking note of the starting position of every new segment (the list ind_new). \n",
    "\n",
    "<ins>Part 2</ins> is going to take some more thinking. In progress.\n",
    "\n",
    "-Annette"
   ]
  },
  {
   "cell_type": "code",
   "execution_count": 52,
   "id": "72d0c46d",
   "metadata": {},
   "outputs": [
    {
     "data": {
      "text/plain": [
       "100"
      ]
     },
     "execution_count": 52,
     "metadata": {},
     "output_type": "execute_result"
    }
   ],
   "source": [
    "#get file and info.\n",
    "\n",
    "filename = 'day14_input.txt'\n",
    "\n",
    "with open (filename,'r') as f:\n",
    "    lines = f.read().splitlines()\n",
    "\n",
    "len(lines)"
   ]
  },
  {
   "cell_type": "code",
   "execution_count": 53,
   "id": "00181e85",
   "metadata": {},
   "outputs": [],
   "source": [
    "#Part 1 Function\n",
    "\n",
    "def get_vertical_mtx(lines: list):\n",
    "    '''\n",
    "    Args:\n",
    "        mtx : list of rows or lines from text\n",
    "    Returns:\n",
    "        vtx : list of columns from text up to first #\n",
    "        distance : distance of top row from bottom row = len of lines\n",
    "    '''\n",
    "    mtx = lines.copy()\n",
    "    lastcol = len(mtx[0])\n",
    "    vtx = [''.join([line[i] for line in mtx]) for i in range(lastcol)]\n",
    "    return vtx, len(lines)\n",
    "\n",
    "def calc_weight(column: str, distance: int):\n",
    "    '''\n",
    "    Args:\n",
    "        column : string representing vertical column from north fence to south fence\n",
    "        distance : integer representing distance from north to south fence\n",
    "    Returns:\n",
    "        weight_on_fence : integer representing weight of all round rocks on fence\n",
    "    '''\n",
    "    ind_new = [i for i in range(1,distance+1,1) if column[i-1] == '#']\n",
    "    ind_new.insert(0,0)\n",
    "    segments = column.split('#')\n",
    "    weight_on_fence = 0\n",
    "    # print(column,segments)\n",
    "    for ind,segment in enumerate(segments):\n",
    "        round_rocks = segment.count('O')\n",
    "        # print(round_rocks, ind_new[ind])\n",
    "        weight_on_fence += sum([distance - ind_new[ind] - j for j in range(round_rocks)])\n",
    "    # print(weight_on_fence)\n",
    "    return weight_on_fence\n"
   ]
  },
  {
   "cell_type": "code",
   "execution_count": 54,
   "id": "8e9edc8b",
   "metadata": {},
   "outputs": [
    {
     "data": {
      "text/plain": [
       "'Part 1 Answer: 109466'"
      ]
     },
     "execution_count": 54,
     "metadata": {},
     "output_type": "execute_result"
    }
   ],
   "source": [
    "# Part 1 Solution\n",
    "vtx, distance = get_vertical_mtx(lines)\n",
    "total_weight = sum([calc_weight(col, distance) for col in vtx])\n",
    "(f'Part 1 Answer: {total_weight}')"
   ]
  }
 ],
 "metadata": {
  "kernelspec": {
   "display_name": "venv",
   "language": "python",
   "name": "python3"
  },
  "language_info": {
   "codemirror_mode": {
    "name": "ipython",
    "version": 3
   },
   "file_extension": ".py",
   "mimetype": "text/x-python",
   "name": "python",
   "nbconvert_exporter": "python",
   "pygments_lexer": "ipython3",
   "version": "3.13.2"
  }
 },
 "nbformat": 4,
 "nbformat_minor": 5
}
