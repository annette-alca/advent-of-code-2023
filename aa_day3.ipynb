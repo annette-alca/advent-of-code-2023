{
 "cells": [
  {
   "cell_type": "markdown",
   "id": "8921e6fe",
   "metadata": {},
   "source": [
    "My solution to https://adventofcode.com/2023/day/3\n",
    "Refactored in 2025\n",
    "Annette Alca"
   ]
  },
  {
   "cell_type": "code",
   "execution_count": 146,
   "metadata": {},
   "outputs": [],
   "source": [
    "#get information from input file\n",
    "with open ('new_puzzle3.txt','r') as tab:\n",
    "    lines = tab.read().splitlines()"
   ]
  },
  {
   "cell_type": "code",
   "execution_count": 147,
   "metadata": {},
   "outputs": [
    {
     "name": "stdout",
     "output_type": "stream",
     "text": [
      "symbols: ['!', '\"', '£', '$', '%', '^', '&', '*', '(', ')', '@', '#', '+', '-', '*', '/', '=']\n"
     ]
    }
   ],
   "source": [
    "#define symbols\n",
    "symbols = '! \" £ $ % ^ & * ( ) @ # + - * / ='.split()\n",
    "print(f'symbols: {symbols}')"
   ]
  },
  {
   "cell_type": "code",
   "execution_count": 148,
   "metadata": {},
   "outputs": [],
   "source": [
    "#Part1 Functions\n",
    "\n",
    "def getnumber (row,col):\n",
    "    global maxrow, maxcol, matrix\n",
    "    rightcol = maxcol\n",
    "    while rightcol>col:\n",
    "        try:\n",
    "            number = int(matrix[row][col:rightcol])\n",
    "            leftcol = max(0,col-1)\n",
    "            rightcol = min(maxcol-1, rightcol+1)\n",
    "            uprow = row-1\n",
    "            botrow = row+1\n",
    "            return [number, uprow,botrow, leftcol, rightcol]\n",
    "        except ValueError:\n",
    "            rightcol -=1\n",
    "\n",
    "def hasSymbol (string):\n",
    "    '''if string has one of the symbols'''\n",
    "    global symbols\n",
    "    for s in string:\n",
    "        if s in symbols:\n",
    "            return True\n",
    "    return False\n",
    "\n",
    "def minesweep (row,uprow,botrow,leftcol,rightcol):\n",
    "    '''returns True if there is a special symbol next to number\n",
    "    checks left, then right, then above (including diagonal),\n",
    "    then below (including diagonal)'''\n",
    "    global matrix,maxrow, maxcol\n",
    "    #start same row\n",
    "    \n",
    "    if matrix[row][leftcol] in symbols:\n",
    "        # print('leftsymbol')\n",
    "        return True\n",
    "    elif matrix[row][rightcol-1] in symbols:\n",
    "        # print('rightsymbol')\n",
    "        return True\n",
    "    if uprow>=0:\n",
    "        string = matrix[uprow][leftcol:rightcol]\n",
    "        #print('upstring',string)\n",
    "        if hasSymbol(string):\n",
    "            return True\n",
    "    if botrow<maxrow:\n",
    "        string = matrix[botrow][leftcol:rightcol]\n",
    "        #print('downstring',string)\n",
    "        if hasSymbol(string):\n",
    "            return True\n",
    "    \n",
    "    return False"
   ]
  },
  {
   "cell_type": "code",
   "execution_count": 149,
   "metadata": {
    "scrolled": true
   },
   "outputs": [
    {
     "name": "stdout",
     "output_type": "stream",
     "text": [
      "Part 1 Answer: 530849\n"
     ]
    }
   ],
   "source": [
    "#Part 1 Solution\n",
    "matrix = lines.copy()\n",
    "maxrow = len(matrix)\n",
    "maxcol = len(matrix[0])\n",
    "tot=0\n",
    "for row in range(maxrow):\n",
    "    # print('\\n',row)\n",
    "    col=0\n",
    "    while col<maxcol-1:\n",
    "        if matrix[row][col].isdigit():\n",
    "            #print(row)\n",
    "            number,uprow,botrow,leftcol,rightcol=(getnumber(row,col))\n",
    "            col=rightcol\n",
    "            # print(number,'at',row,leftcol,rightcol,end=',')\n",
    "            \n",
    "            if minesweep(row,uprow,botrow,leftcol,rightcol):\n",
    "                tot+=number\n",
    "                # print(number,tot)                \n",
    "    \n",
    "        else:\n",
    "            col+=1\n",
    "\n",
    "print(f'Part 1 Answer: {tot}')"
   ]
  },
  {
   "cell_type": "code",
   "execution_count": 150,
   "metadata": {},
   "outputs": [],
   "source": [
    "#Part 2"
   ]
  },
  {
   "cell_type": "code",
   "execution_count": 151,
   "metadata": {},
   "outputs": [],
   "source": [
    "#Part 2 Functions\n",
    "def hasDigit (string):\n",
    "    '''returns True and an index if string has a digit'''\n",
    "    for s in string:\n",
    "        if s.isdigit():\n",
    "            return [True,string.index(s)]\n",
    "    return [False,False]\n",
    "\n",
    "def findNumberExpanding(col,string):\n",
    "    '''gives longest number, col is starting point for expansion'''\n",
    "    left = col\n",
    "    right = col+1\n",
    "    number = int(string[col])\n",
    "    while left>=0:\n",
    "        #print(left,right,string[left:right])\n",
    "        try:\n",
    "            number = int(string[left:right])\n",
    "            #print(number,end=',')\n",
    "            left -=1\n",
    "        except ValueError:\n",
    "            left +=1\n",
    "            break\n",
    "    left = max(0,left)\n",
    "    while right<=len(string):\n",
    "        #print(left,right,string[left:right])\n",
    "        try:\n",
    "            #print(col,left,right,string[left:right])\n",
    "            number = int(string[left:right])\n",
    "            right +=1\n",
    "        except ValueError:\n",
    "            break\n",
    "    return number\n",
    "\n",
    "\n",
    "def helperDiagonal (adjRow,col,found):\n",
    "    global matrix, maxcol\n",
    "    '''Part 2.\n",
    "    get numbers up or down a row, adds to found\n",
    "    considers that there could be two numbers'''\n",
    "    if matrix[adjRow][col].isdigit(): #number right above or below *\n",
    "        number = findNumberExpanding(col,matrix[adjRow])\n",
    "        found.append(number)\n",
    "        return found\n",
    "    \n",
    "    elif matrix[adjRow][col-1].isdigit(): #number(s) diagonally above or below *\n",
    "        number = findNumberExpanding(col-1,matrix[adjRow][:col])\n",
    "        found.append(number)\n",
    "        \n",
    "    if matrix[adjRow][col+1].isdigit():\n",
    "        number = findNumberExpanding(0,matrix[adjRow][col+1:maxcol])\n",
    "        found.append(number)\n",
    "        \n",
    "    return found\n",
    "\n",
    "def stringSweep (row,col):\n",
    "    '''get numbers around a character by its row and col\n",
    "    start left, then right, then above, then below\n",
    "    by sweeping the strings around it'''\n",
    "    global matrix, maxcol\n",
    "    \n",
    "    found = [] # stops when 2 are found\n",
    "    ## check left\n",
    "    if matrix[row][col-1].isdigit():\n",
    "        number = findNumberExpanding(col-1,matrix[row][:col])\n",
    "        found.append(number)\n",
    "    ##check right \n",
    "    if matrix[row][col+1].isdigit():\n",
    "        number = findNumberExpanding(0,matrix[row][col+1:maxcol])\n",
    "        found.append(number)\n",
    "    \n",
    "    ##check up\n",
    "    if row-1>=0: \n",
    "        found = helperDiagonal(row-1,col,found)\n",
    "    \n",
    "    ##check down\n",
    "    if row+1<=len(matrix):\n",
    "        found = helperDiagonal(row+1,col,found)\n",
    "        \n",
    "    #print(found)\n",
    "    if len(found)==2:\n",
    "        return [True,found]\n",
    "    else:\n",
    "        return [False,found]\n",
    "    \n",
    "    \n",
    "    "
   ]
  },
  {
   "cell_type": "code",
   "execution_count": 152,
   "metadata": {},
   "outputs": [
    {
     "name": "stdout",
     "output_type": "stream",
     "text": [
      "Answer: 84900879\n"
     ]
    }
   ],
   "source": [
    "#Part 2 Solution\n",
    "\n",
    "matrix = lines.copy()\n",
    "maxcol = len(matrix[0])\n",
    "tot=0\n",
    "starcount = 0\n",
    "for row in range(len(matrix)):\n",
    "    col=0\n",
    "    while col<maxcol:\n",
    "        if matrix[row][col]=='*':\n",
    "            starcount +=1\n",
    "            gear,found = stringSweep(row,col)\n",
    "            #print(row,col, gear,found, tot)\n",
    "            if gear:\n",
    "                tot += found[1]*found[0]\n",
    "        col+=1\n",
    "print(f'Answer: {tot}')"
   ]
  },
  {
   "cell_type": "code",
   "execution_count": null,
   "metadata": {},
   "outputs": [],
   "source": []
  }
 ],
 "metadata": {
  "kernelspec": {
   "display_name": "venv",
   "language": "python",
   "name": "python3"
  },
  "language_info": {
   "codemirror_mode": {
    "name": "ipython",
    "version": 3
   },
   "file_extension": ".py",
   "mimetype": "text/x-python",
   "name": "python",
   "nbconvert_exporter": "python",
   "pygments_lexer": "ipython3",
   "version": "3.13.2"
  }
 },
 "nbformat": 4,
 "nbformat_minor": 5
}
